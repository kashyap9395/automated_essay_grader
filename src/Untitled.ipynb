{
 "cells": [
  {
   "cell_type": "code",
   "execution_count": 9,
   "metadata": {},
   "outputs": [],
   "source": [
    "import pandas as pd"
   ]
  },
  {
   "cell_type": "code",
   "execution_count": 18,
   "metadata": {},
   "outputs": [],
   "source": [
    "index_frame = pd.read_csv(\"../index.csv\",delimiter=';',index_col = False)\n",
    "# remove trailing spaces in the prompt column\n",
    "index_frame['prompt'] = index_frame['prompt'].str.strip()\n"
   ]
  },
  {
   "cell_type": "code",
   "execution_count": 19,
   "metadata": {},
   "outputs": [
    {
     "data": {
      "text/html": [
       "<div>\n",
       "<style scoped>\n",
       "    .dataframe tbody tr th:only-of-type {\n",
       "        vertical-align: middle;\n",
       "    }\n",
       "\n",
       "    .dataframe tbody tr th {\n",
       "        vertical-align: top;\n",
       "    }\n",
       "\n",
       "    .dataframe thead th {\n",
       "        text-align: right;\n",
       "    }\n",
       "</style>\n",
       "<table border=\"1\" class=\"dataframe\">\n",
       "  <thead>\n",
       "    <tr style=\"text-align: right;\">\n",
       "      <th></th>\n",
       "      <th>filename</th>\n",
       "      <th>prompt</th>\n",
       "      <th>grade</th>\n",
       "    </tr>\n",
       "  </thead>\n",
       "  <tbody>\n",
       "    <tr>\n",
       "      <th>0</th>\n",
       "      <td>1004355.txt</td>\n",
       "      <td>Do you agree or disagree with the following st...</td>\n",
       "      <td>low</td>\n",
       "    </tr>\n",
       "    <tr>\n",
       "      <th>1</th>\n",
       "      <td>1007363.txt</td>\n",
       "      <td>Do you agree or disagree with the following st...</td>\n",
       "      <td>low</td>\n",
       "    </tr>\n",
       "    <tr>\n",
       "      <th>2</th>\n",
       "      <td>1079196.txt</td>\n",
       "      <td>Do you agree or disagree with the following st...</td>\n",
       "      <td>high</td>\n",
       "    </tr>\n",
       "    <tr>\n",
       "      <th>3</th>\n",
       "      <td>1086343.txt</td>\n",
       "      <td>Do you agree or disagree with the following st...</td>\n",
       "      <td>low</td>\n",
       "    </tr>\n",
       "    <tr>\n",
       "      <th>4</th>\n",
       "      <td>1096747.txt</td>\n",
       "      <td>Do you agree or disagree with the following st...</td>\n",
       "      <td>low</td>\n",
       "    </tr>\n",
       "  </tbody>\n",
       "</table>\n",
       "</div>"
      ],
      "text/plain": [
       "      filename                                             prompt grade\n",
       "0  1004355.txt  Do you agree or disagree with the following st...   low\n",
       "1  1007363.txt  Do you agree or disagree with the following st...   low\n",
       "2  1079196.txt  Do you agree or disagree with the following st...  high\n",
       "3  1086343.txt  Do you agree or disagree with the following st...   low\n",
       "4  1096747.txt  Do you agree or disagree with the following st...   low"
      ]
     },
     "execution_count": 19,
     "metadata": {},
     "output_type": "execute_result"
    }
   ],
   "source": [
    "index_frame.head(5)"
   ]
  },
  {
   "cell_type": "code",
   "execution_count": 316,
   "metadata": {},
   "outputs": [],
   "source": [
    "train = pd.read_csv(\"results.csv\",names=[\"Filename\",\"A\",\"B\",\"C1\",\"C2\",\"C3\",\"D1\",\"D2\",\"Final_Score\",\"Grade\",\"Cohort\"],index_col=False)\n",
    "test = pd.read_csv(\"results_test.csv\",names=[\"Filename\",\"A\",\"B\",\"C1\",\"C2\",\"C3\",\"D1\",\"D2\",\"Final_Score\",\"Grade\",\"Cohort\"],index_col=False)"
   ]
  },
  {
   "cell_type": "code",
   "execution_count": 317,
   "metadata": {},
   "outputs": [],
   "source": [
    "train.replace({\"high\":1,\"low\":0},inplace=True)\n",
    "test.replace({\"high\":1,\"low\":0},inplace=True)\n",
    "train_values = pd.read_csv(\"trainvalues.csv\")\n",
    "test_values = pd.read_csv(\"testvalues.csv\")\n"
   ]
  },
  {
   "cell_type": "code",
   "execution_count": 318,
   "metadata": {},
   "outputs": [],
   "source": [
    "train['A'] = train_values['length_train']\n",
    "train['C1'] = train_values['c1_train']\n",
    "\n",
    "test['A'] = test_values['length_test']\n",
    "test['C1'] = test_values['c1_test']"
   ]
  },
  {
   "cell_type": "code",
   "execution_count": 319,
   "metadata": {},
   "outputs": [
    {
     "name": "stdout",
     "output_type": "stream",
     "text": [
      "      Filename     A   B  C1  C2  C3  D1  D2  Final_Score  Grade  Cohort\n",
      "0   265349.txt  20.0   6   3   6   0   0   0            0      1       1\n",
      "1   338351.txt  19.0  11   1   6   0   0   0            0      1       1\n",
      "2   526827.txt  21.5   8   2   2   0   0   0            0      0       1\n",
      "3    52951.txt   1.0  14   0   8   0   0   0            0      1       1\n",
      "4    38209.txt  13.0  14   0  10   0   0   0            0      1       1\n",
      "5   230893.txt  16.5  19   0   3   0   0   0            0      1       1\n",
      "6   345396.txt  17.0  18   0   9   0   0   0            0      0       1\n",
      "7   219983.txt  10.0  16   0   3   0   0   0            0      0       1\n",
      "8   162639.txt  18.5  16   1   4   0   0   0            0      1       1\n",
      "9   496928.txt  21.5  12   2   1   0   0   0            0      0       1\n",
      "10  586583.txt  21.0  12   1   7   0   0   0            0      0       1\n",
      "11  404521.txt  21.5  12   0   7   0   0   0            0      0       1\n",
      "12  449267.txt  12.0  13   0   5   0   0   0            0      0       1\n",
      "13  395987.txt  10.5  12   0  15   0   0   0            0      1       1\n",
      "14  535573.txt  18.0   5   0   7   0   0   0            0      1       1\n",
      "15   71654.txt  23.0  24   0   8   0   0   0            0      1       1\n",
      "16  412197.txt   8.5  15   0  12   0   0   0            0      1       1\n",
      "17  248917.txt  37.5  13   0   6   0   0   0            0      0       1\n",
      "18  425198.txt   9.0  25   0  11   0   0   0            0      0       1\n",
      "19  562823.txt  24.5   8   1   1   0   0   0            0      0       1\n",
      "20  206667.txt  10.5  25   0   5   0   0   0            0      0       1\n",
      "21  302140.txt  15.0   1   1   9   0   0   0            0      1       1\n",
      "22  186616.txt   8.0   7   0   7   0   0   0            0      1       1\n",
      "23  392518.txt  12.0  15   2   4   0   0   0            0      0       1\n",
      "24  216672.txt   6.0   4   0   1   0   0   0            0      0       1\n",
      "25  232159.txt  19.0   6   0   5   0   0   0            0      1       1\n",
      "26  373416.txt  20.0   2   1   7   0   0   0            0      1       1\n",
      "27   67346.txt   8.0   9   0   9   0   0   0            0      1       1\n",
      "28  279212.txt   7.0  11   1   4   0   0   0            0      1       1\n",
      "29  339615.txt  22.0  34   0   4   0   0   0            0      0       1\n",
      "30  450359.txt  25.0  13   1   4   0   0   0            0      0       1\n"
     ]
    }
   ],
   "source": [
    "print(test)"
   ]
  },
  {
   "cell_type": "code",
   "execution_count": 320,
   "metadata": {},
   "outputs": [],
   "source": [
    "full_df = pd.concat([train,test])"
   ]
  },
  {
   "cell_type": "code",
   "execution_count": 234,
   "metadata": {},
   "outputs": [],
   "source": [
    "mean_a = full_df['A'].mean()\n",
    "std_a = full_df['A'].std()\n",
    "mean_b = full_df['B'].mean()\n",
    "std_b = full_df['B'].std()\n",
    "mean_c1 = full_df['C1'].mean()\n",
    "std_c1 = full_df['C1'].std()"
   ]
  },
  {
   "cell_type": "code",
   "execution_count": 321,
   "metadata": {},
   "outputs": [],
   "source": [
    "\n",
    "from sklearn.preprocessing import MinMaxScaler\n",
    "\n",
    "mms = MinMaxScaler()\n",
    "\n",
    "full_df[[\"A\",\"B\",\"C1\",\"C2\",\"C3\",\"D1\",\"D2\"]] = mms.fit_transform(full_df[[\"A\",\"B\",\"C1\",\"C2\",\"C3\",\"D1\",\"D2\"]])"
   ]
  },
  {
   "cell_type": "code",
   "execution_count": 299,
   "metadata": {},
   "outputs": [
    {
     "name": "stdout",
     "output_type": "stream",
     "text": [
      "       Filename         A         B        C1        C2   C3   D1   D2  \\\n",
      "0   1453563.txt  0.356164  0.121951  0.000000  0.470588  0.0  0.0  0.0   \n",
      "1   1004355.txt  0.246575  0.365854  0.333333  0.764706  0.0  0.0  0.0   \n",
      "2    990384.txt  0.438356  0.439024  0.333333  0.588235  0.0  0.0  0.0   \n",
      "3   1876159.txt  0.273973  0.341463  0.333333  0.705882  0.0  0.0  0.0   \n",
      "4   1813924.txt  0.136986  0.707317  0.000000  1.000000  0.0  0.0  0.0   \n",
      "5   1691426.txt  0.410959  0.756098  0.000000  0.470588  0.0  0.0  0.0   \n",
      "6   1239289.txt  0.328767  0.365854  0.000000  0.235294  0.0  0.0  0.0   \n",
      "7    716766.txt  0.136986  0.170732  0.000000  0.235294  0.0  0.0  0.0   \n",
      "8   1449555.txt  0.301370  0.146341  0.000000  0.529412  0.0  0.0  0.0   \n",
      "9   1249928.txt  0.438356  0.829268  0.000000  0.470588  0.0  0.0  0.0   \n",
      "10  1599482.txt  0.273973  0.414634  0.000000  0.529412  0.0  0.0  0.0   \n",
      "11  1181356.txt  0.383562  0.195122  0.000000  0.470588  0.0  0.0  0.0   \n",
      "12  1648484.txt  0.095890  0.121951  0.000000  0.235294  0.0  0.0  0.0   \n",
      "13  1321982.txt  0.205479  0.536585  0.333333  0.470588  0.0  0.0  0.0   \n",
      "14   643139.txt  0.520548  0.585366  0.000000  0.235294  0.0  0.0  0.0   \n",
      "15   749940.txt  0.328767  0.146341  0.000000  0.176471  0.0  0.0  0.0   \n",
      "16   746257.txt  0.520548  0.341463  0.333333  0.117647  0.0  0.0  0.0   \n",
      "17  1394540.txt  0.191781  0.341463  0.000000  0.235294  0.0  0.0  0.0   \n",
      "18   913996.txt  0.602740  0.073171  0.000000  0.235294  0.0  0.0  0.0   \n",
      "19  1985615.txt  0.616438  0.146341  0.000000  0.294118  0.0  0.0  0.0   \n",
      "20  1096747.txt  0.246575  0.195122  0.000000  0.000000  0.0  0.0  0.0   \n",
      "21  1346734.txt  0.643836  0.243902  0.000000  0.235294  0.0  0.0  0.0   \n",
      "22  1388870.txt  0.410959  0.487805  0.333333  0.294118  0.0  0.0  0.0   \n",
      "23  1431839.txt  0.438356  0.073171  0.333333  0.176471  0.0  0.0  0.0   \n",
      "24  1414676.txt  0.410959  0.024390  0.333333  0.470588  0.0  0.0  0.0   \n",
      "25   711394.txt  0.054795  0.170732  0.000000  0.588235  0.0  0.0  0.0   \n",
      "26  1604419.txt  0.150685  0.609756  0.000000  0.000000  0.0  0.0  0.0   \n",
      "27  1897285.txt  0.424658  0.243902  0.333333  0.176471  0.0  0.0  0.0   \n",
      "28  1804641.txt  0.547945  0.512195  0.000000  0.294118  0.0  0.0  0.0   \n",
      "29  1971958.txt  0.328767  0.317073  0.000000  0.764706  0.0  0.0  0.0   \n",
      "..          ...       ...       ...       ...       ...  ...  ...  ...   \n",
      "1    338351.txt  0.493151  0.243902  0.333333  0.294118  0.0  0.0  0.0   \n",
      "2    526827.txt  0.561644  0.170732  0.666667  0.058824  0.0  0.0  0.0   \n",
      "3     52951.txt  0.000000  0.317073  0.000000  0.411765  0.0  0.0  0.0   \n",
      "4     38209.txt  0.328767  0.317073  0.000000  0.529412  0.0  0.0  0.0   \n",
      "5    230893.txt  0.424658  0.439024  0.000000  0.117647  0.0  0.0  0.0   \n",
      "6    345396.txt  0.438356  0.414634  0.000000  0.470588  0.0  0.0  0.0   \n",
      "7    219983.txt  0.246575  0.365854  0.000000  0.117647  0.0  0.0  0.0   \n",
      "8    162639.txt  0.479452  0.365854  0.333333  0.176471  0.0  0.0  0.0   \n",
      "9    496928.txt  0.561644  0.268293  0.666667  0.000000  0.0  0.0  0.0   \n",
      "10   586583.txt  0.547945  0.268293  0.333333  0.352941  0.0  0.0  0.0   \n",
      "11   404521.txt  0.561644  0.268293  0.000000  0.352941  0.0  0.0  0.0   \n",
      "12   449267.txt  0.301370  0.292683  0.000000  0.235294  0.0  0.0  0.0   \n",
      "13   395987.txt  0.260274  0.268293  0.000000  0.823529  0.0  0.0  0.0   \n",
      "14   535573.txt  0.465753  0.097561  0.000000  0.352941  0.0  0.0  0.0   \n",
      "15    71654.txt  0.602740  0.560976  0.000000  0.411765  0.0  0.0  0.0   \n",
      "16   412197.txt  0.205479  0.341463  0.000000  0.647059  0.0  0.0  0.0   \n",
      "17   248917.txt  1.000000  0.292683  0.000000  0.294118  0.0  0.0  0.0   \n",
      "18   425198.txt  0.219178  0.585366  0.000000  0.588235  0.0  0.0  0.0   \n",
      "19   562823.txt  0.643836  0.170732  0.333333  0.000000  0.0  0.0  0.0   \n",
      "20   206667.txt  0.260274  0.585366  0.000000  0.235294  0.0  0.0  0.0   \n",
      "21   302140.txt  0.383562  0.000000  0.333333  0.470588  0.0  0.0  0.0   \n",
      "22   186616.txt  0.191781  0.146341  0.000000  0.352941  0.0  0.0  0.0   \n",
      "23   392518.txt  0.301370  0.341463  0.666667  0.176471  0.0  0.0  0.0   \n",
      "24   216672.txt  0.136986  0.073171  0.000000  0.000000  0.0  0.0  0.0   \n",
      "25   232159.txt  0.493151  0.121951  0.000000  0.235294  0.0  0.0  0.0   \n",
      "26   373416.txt  0.520548  0.024390  0.333333  0.352941  0.0  0.0  0.0   \n",
      "27    67346.txt  0.191781  0.195122  0.000000  0.470588  0.0  0.0  0.0   \n",
      "28   279212.txt  0.164384  0.243902  0.333333  0.176471  0.0  0.0  0.0   \n",
      "29   339615.txt  0.575342  0.804878  0.000000  0.176471  0.0  0.0  0.0   \n",
      "30   450359.txt  0.657534  0.292683  0.333333  0.176471  0.0  0.0  0.0   \n",
      "\n",
      "    Final_Score Grade  Cohort  \n",
      "0             0  high       0  \n",
      "1             0   low       0  \n",
      "2             0  high       0  \n",
      "3             0  high       0  \n",
      "4             0   low       0  \n",
      "5             0   low       0  \n",
      "6             0   low       0  \n",
      "7             0  high       0  \n",
      "8             0  high       0  \n",
      "9             0   low       0  \n",
      "10            0  high       0  \n",
      "11            0   low       0  \n",
      "12            0   low       0  \n",
      "13            0   low       0  \n",
      "14            0   low       0  \n",
      "15            0   low       0  \n",
      "16            0   low       0  \n",
      "17            0   low       0  \n",
      "18            0  high       0  \n",
      "19            0  high       0  \n",
      "20            0   low       0  \n",
      "21            0   low       0  \n",
      "22            0   low       0  \n",
      "23            0  high       0  \n",
      "24            0  high       0  \n",
      "25            0  high       0  \n",
      "26            0   low       0  \n",
      "27            0   low       0  \n",
      "28            0   low       0  \n",
      "29            0   low       0  \n",
      "..          ...   ...     ...  \n",
      "1             0  high       1  \n",
      "2             0   low       1  \n",
      "3             0  high       1  \n",
      "4             0  high       1  \n",
      "5             0  high       1  \n",
      "6             0   low       1  \n",
      "7             0   low       1  \n",
      "8             0  high       1  \n",
      "9             0   low       1  \n",
      "10            0   low       1  \n",
      "11            0   low       1  \n",
      "12            0   low       1  \n",
      "13            0  high       1  \n",
      "14            0  high       1  \n",
      "15            0  high       1  \n",
      "16            0  high       1  \n",
      "17            0   low       1  \n",
      "18            0   low       1  \n",
      "19            0   low       1  \n",
      "20            0   low       1  \n",
      "21            0  high       1  \n",
      "22            0  high       1  \n",
      "23            0   low       1  \n",
      "24            0   low       1  \n",
      "25            0  high       1  \n",
      "26            0  high       1  \n",
      "27            0  high       1  \n",
      "28            0  high       1  \n",
      "29            0   low       1  \n",
      "30            0   low       1  \n",
      "\n",
      "[100 rows x 11 columns]\n"
     ]
    }
   ],
   "source": [
    "print(full_df)"
   ]
  },
  {
   "cell_type": "code",
   "execution_count": 322,
   "metadata": {},
   "outputs": [
    {
     "name": "stderr",
     "output_type": "stream",
     "text": [
      "D:\\Anaconda\\lib\\site-packages\\ipykernel_launcher.py:9: FutureWarning: set_value is deprecated and will be removed in a future release. Please use .at[] or .iat[] accessors instead\n",
      "  if __name__ == '__main__':\n",
      "D:\\Anaconda\\lib\\site-packages\\ipykernel_launcher.py:22: FutureWarning: set_value is deprecated and will be removed in a future release. Please use .at[] or .iat[] accessors instead\n",
      "D:\\Anaconda\\lib\\site-packages\\ipykernel_launcher.py:33: FutureWarning: set_value is deprecated and will be removed in a future release. Please use .at[] or .iat[] accessors instead\n",
      "D:\\Anaconda\\lib\\site-packages\\ipykernel_launcher.py:41: FutureWarning: set_value is deprecated and will be removed in a future release. Please use .at[] or .iat[] accessors instead\n",
      "D:\\Anaconda\\lib\\site-packages\\ipykernel_launcher.py:20: FutureWarning: set_value is deprecated and will be removed in a future release. Please use .at[] or .iat[] accessors instead\n",
      "D:\\Anaconda\\lib\\site-packages\\ipykernel_launcher.py:31: FutureWarning: set_value is deprecated and will be removed in a future release. Please use .at[] or .iat[] accessors instead\n",
      "D:\\Anaconda\\lib\\site-packages\\ipykernel_launcher.py:39: FutureWarning: set_value is deprecated and will be removed in a future release. Please use .at[] or .iat[] accessors instead\n",
      "D:\\Anaconda\\lib\\site-packages\\ipykernel_launcher.py:7: FutureWarning: set_value is deprecated and will be removed in a future release. Please use .at[] or .iat[] accessors instead\n",
      "  import sys\n",
      "D:\\Anaconda\\lib\\site-packages\\ipykernel_launcher.py:18: FutureWarning: set_value is deprecated and will be removed in a future release. Please use .at[] or .iat[] accessors instead\n",
      "D:\\Anaconda\\lib\\site-packages\\ipykernel_launcher.py:11: FutureWarning: set_value is deprecated and will be removed in a future release. Please use .at[] or .iat[] accessors instead\n",
      "  # This is added back by InteractiveShellApp.init_path()\n",
      "D:\\Anaconda\\lib\\site-packages\\ipykernel_launcher.py:16: FutureWarning: set_value is deprecated and will be removed in a future release. Please use .at[] or .iat[] accessors instead\n",
      "  app.launch_new_instance()\n",
      "D:\\Anaconda\\lib\\site-packages\\ipykernel_launcher.py:37: FutureWarning: set_value is deprecated and will be removed in a future release. Please use .at[] or .iat[] accessors instead\n",
      "D:\\Anaconda\\lib\\site-packages\\ipykernel_launcher.py:43: FutureWarning: set_value is deprecated and will be removed in a future release. Please use .at[] or .iat[] accessors instead\n",
      "D:\\Anaconda\\lib\\site-packages\\ipykernel_launcher.py:14: FutureWarning: set_value is deprecated and will be removed in a future release. Please use .at[] or .iat[] accessors instead\n",
      "  \n",
      "D:\\Anaconda\\lib\\site-packages\\ipykernel_launcher.py:45: FutureWarning: set_value is deprecated and will be removed in a future release. Please use .at[] or .iat[] accessors instead\n",
      "D:\\Anaconda\\lib\\site-packages\\ipykernel_launcher.py:5: FutureWarning: set_value is deprecated and will be removed in a future release. Please use .at[] or .iat[] accessors instead\n",
      "  \"\"\"\n",
      "D:\\Anaconda\\lib\\site-packages\\ipykernel_launcher.py:27: FutureWarning: set_value is deprecated and will be removed in a future release. Please use .at[] or .iat[] accessors instead\n",
      "D:\\Anaconda\\lib\\site-packages\\ipykernel_launcher.py:25: FutureWarning: set_value is deprecated and will be removed in a future release. Please use .at[] or .iat[] accessors instead\n",
      "D:\\Anaconda\\lib\\site-packages\\ipykernel_launcher.py:3: FutureWarning: set_value is deprecated and will be removed in a future release. Please use .at[] or .iat[] accessors instead\n",
      "  This is separate from the ipykernel package so we can avoid doing imports until\n"
     ]
    }
   ],
   "source": [
    "for i, row in full_df.iterrows():\n",
    "    if 0.8<=row['A']<1.01:\n",
    "        full_df.set_value(i,'A',5)\n",
    "    elif 0.6<=row['A']<0.8:\n",
    "        full_df.set_value(i,'A',4)\n",
    "    elif 0.4<=row['A']<0.6:\n",
    "        full_df.set_value(i,'A',3)\n",
    "    elif 0.2<=row['A']<0.4:\n",
    "        full_df.set_value(i,'A',2)\n",
    "    elif row['A']<0.2:\n",
    "        full_df.set_value(i,'A',1)\n",
    "    \n",
    "    if 0.8<=row['B']<1.01:\n",
    "        full_df.set_value(i,'B',4)\n",
    "    elif 0.6<=row['B']<0.8:\n",
    "        full_df.set_value(i,'B',3)\n",
    "    elif 0.4<=row['B']<0.6:\n",
    "        full_df.set_value(i,'B',2)\n",
    "    elif 0.2<=row['B']<0.4:\n",
    "        full_df.set_value(i,'B',1)\n",
    "    elif row['B']<0.2:\n",
    "        full_df.set_value(i,'B',0)\n",
    "        \n",
    "    if 0.8<=row['C1']<1.01:\n",
    "        full_df.set_value(i,'C1',5)\n",
    "    elif 0.6<=row['C1']<0.8:\n",
    "        full_df.set_value(i,'C1',4)\n",
    "    elif 0.4<=row['C1']<0.6:\n",
    "        full_df.set_value(i,'C1',3)\n",
    "    elif 0.2<=row['C1']<0.4:\n",
    "        full_df.set_value(i,'C1',2)\n",
    "    elif row['C1']<0.2:\n",
    "        full_df.set_value(i,'C1',1)\n",
    "    \n",
    "    \n",
    "    if 0.8<=row['C2']<1.01:\n",
    "        full_df.set_value(i,'C2',5)\n",
    "    elif 0.6<=row['C2']<0.8:\n",
    "        full_df.set_value(i,'C2',4)\n",
    "    elif 0.4<=row['C2']<0.6:\n",
    "        full_df.set_value(i,'C2',3)\n",
    "    elif 0.2<=row['C2']<0.4:\n",
    "        full_df.set_value(i,'C2',2)\n",
    "    elif row['C2']<0.2:\n",
    "        full_df.set_value(i,'C2',1)\n",
    "    \n",
    "    \n",
    "        \n",
    "    "
   ]
  },
  {
   "cell_type": "code",
   "execution_count": 323,
   "metadata": {},
   "outputs": [
    {
     "name": "stdout",
     "output_type": "stream",
     "text": [
      "2.53\n"
     ]
    }
   ],
   "source": [
    "print(full_df['A'].mean())"
   ]
  },
  {
   "cell_type": "code",
   "execution_count": 305,
   "metadata": {},
   "outputs": [
    {
     "name": "stderr",
     "output_type": "stream",
     "text": [
      "D:\\Anaconda\\lib\\site-packages\\ipykernel_launcher.py:7: SettingWithCopyWarning: \n",
      "A value is trying to be set on a copy of a slice from a DataFrame.\n",
      "Try using .loc[row_indexer,col_indexer] = value instead\n",
      "\n",
      "See the caveats in the documentation: http://pandas.pydata.org/pandas-docs/stable/indexing.html#indexing-view-versus-copy\n",
      "  import sys\n",
      "D:\\Anaconda\\lib\\site-packages\\ipykernel_launcher.py:8: SettingWithCopyWarning: \n",
      "A value is trying to be set on a copy of a slice from a DataFrame.\n",
      "Try using .loc[row_indexer,col_indexer] = value instead\n",
      "\n",
      "See the caveats in the documentation: http://pandas.pydata.org/pandas-docs/stable/indexing.html#indexing-view-versus-copy\n",
      "  \n"
     ]
    }
   ],
   "source": [
    "train = full_df.loc[full_df['Cohort'] == 0]\n",
    "test = full_df.loc[full_df['Cohort'] == 1]\n",
    "y_train = train['Grade']\n",
    "y_test = test['Grade']\n",
    "x_train = train[[\"A\",\"B\",\"C1\",\"C2\",\"C3\",\"D1\",\"D2\",\"Final_Score\"]]\n",
    "x_test =  test[[\"A\",\"B\",\"C1\",\"C2\",\"C3\",\"D1\",\"D2\",\"Final_Score\"]]\n",
    "x_train[\"Final_Score\"] = 2*x_train['A']-x_train['B']+x_train['C1']+x_train[\"C2\"]\n",
    "x_test[\"Final_Score\"] = 2*x_test['A']-x_test['B']+x_test['C1']+x_test[\"C2\"]\n",
    "#x_train.drop([\"C3\",\"D1\",\"D2\"],inplace=True)\n",
    "#x_test.drop([\"C3\",\"D1\",\"D2\"],inplace=True)\n",
    "#print(x_train)"
   ]
  },
  {
   "cell_type": "code",
   "execution_count": 306,
   "metadata": {},
   "outputs": [
    {
     "name": "stdout",
     "output_type": "stream",
     "text": [
      "0.6774193548387096\n"
     ]
    }
   ],
   "source": [
    "from sklearn import linear_model\n",
    "logreg = linear_model.LogisticRegression(C=1e5)\n",
    "\n",
    "# we create an instance of Neighbours Classifier and fit the data.\n",
    "logreg.fit(x_train, y_train)\n",
    "pred = logreg.score(x_test,y_test)\n",
    "print(pred)\n"
   ]
  },
  {
   "cell_type": "code",
   "execution_count": 325,
   "metadata": {},
   "outputs": [
    {
     "name": "stdout",
     "output_type": "stream",
     "text": [
      "Optimization terminated successfully.\n",
      "         Current function value: 0.626730\n",
      "         Iterations 5\n"
     ]
    },
    {
     "data": {
      "text/plain": [
       "intercept    0.597840\n",
       "A            1.096739\n",
       "B            0.408200\n",
       "C1           1.186704\n",
       "C2           1.483539\n",
       "dtype: float64"
      ]
     },
     "execution_count": 325,
     "metadata": {},
     "output_type": "execute_result"
    }
   ],
   "source": [
    "# COeffs\n",
    "import numpy as np\n",
    "import statsmodels.api as sm\n",
    "\n",
    "full_df['intercept'] = 1.0\n",
    "\n",
    "model = sm.Logit(full_df.Grade, full_df[['intercept', \"A\",\"B\",\"C1\",\"C2\"]])\n",
    "result = model.fit()\n",
    "result.summary2()\n",
    "\n",
    "# the odds\n",
    "np.exp(result.params)"
   ]
  },
  {
   "cell_type": "code",
   "execution_count": 327,
   "metadata": {},
   "outputs": [],
   "source": [
    "full_df['Grade'] = 'unc'"
   ]
  },
  {
   "cell_type": "code",
   "execution_count": 333,
   "metadata": {},
   "outputs": [
    {
     "name": "stdout",
     "output_type": "stream",
     "text": [
      "      A grde\n",
      "0   3.0  unc\n",
      "1   3.0  unc\n",
      "2   3.0  unc\n",
      "3   1.0  unc\n",
      "4   2.0  unc\n",
      "5   3.0  unc\n",
      "6   3.0  unc\n",
      "7   2.0  unc\n",
      "8   3.0  unc\n",
      "9   3.0  unc\n",
      "10  3.0  unc\n",
      "11  3.0  unc\n",
      "12  2.0  unc\n",
      "13  2.0  unc\n",
      "14  3.0  unc\n",
      "15  4.0  unc\n",
      "16  2.0  unc\n",
      "17  5.0  unc\n",
      "18  2.0  unc\n",
      "19  4.0  unc\n",
      "20  2.0  unc\n",
      "21  2.0  unc\n",
      "22  1.0  unc\n",
      "23  2.0  unc\n",
      "24  1.0  unc\n",
      "25  3.0  unc\n",
      "26  3.0  unc\n",
      "27  1.0  unc\n",
      "28  1.0  unc\n",
      "29  3.0  unc\n",
      "..  ...  ...\n",
      "1   3.0  unc\n",
      "2   3.0  unc\n",
      "3   1.0  unc\n",
      "4   2.0  unc\n",
      "5   3.0  unc\n",
      "6   3.0  unc\n",
      "7   2.0  unc\n",
      "8   3.0  unc\n",
      "9   3.0  unc\n",
      "10  3.0  unc\n",
      "11  3.0  unc\n",
      "12  2.0  unc\n",
      "13  2.0  unc\n",
      "14  3.0  unc\n",
      "15  4.0  unc\n",
      "16  2.0  unc\n",
      "17  5.0  unc\n",
      "18  2.0  unc\n",
      "19  4.0  unc\n",
      "20  2.0  unc\n",
      "21  2.0  unc\n",
      "22  1.0  unc\n",
      "23  2.0  unc\n",
      "24  1.0  unc\n",
      "25  3.0  unc\n",
      "26  3.0  unc\n",
      "27  1.0  unc\n",
      "28  1.0  unc\n",
      "29  3.0  unc\n",
      "30  4.0  unc\n",
      "\n",
      "[100 rows x 2 columns]\n"
     ]
    }
   ],
   "source": [
    "\n",
    "dump = full_df[[\"A\"]].copy()\n",
    "dump['grde'] = 'unc'\n",
    "print(dump)"
   ]
  },
  {
   "cell_type": "code",
   "execution_count": 3,
   "metadata": {},
   "outputs": [],
   "source": [
    "train = pd.read_csv(\"../dump/results.csv\",names=[\"Filename\",\"A\",\"B\",\"C1\",\"C2\",\"C3\",\"D1\",\"D2\",\"Final_Score\",\"Grade\",\"Cohort\"],index_col=False)"
   ]
  },
  {
   "cell_type": "code",
   "execution_count": 7,
   "metadata": {},
   "outputs": [
    {
     "name": "stdout",
     "output_type": "stream",
     "text": [
      "['low' 'high' 'low' 'low' 'high' 'high' 'high' 'low' 'high' 'low' 'high'\n",
      " 'low' 'low' 'high' 'low' 'high' 'low' 'low' 'high' 'high' 'low' 'low'\n",
      " 'high' 'low' 'high' 'high' 'high' 'high' 'low' 'low' 'high' 'high' 'low'\n",
      " 'high' 'low' 'high' 'low' 'low' 'high' 'low' 'high' 'low' 'high' 'low'\n",
      " 'low' 'high' 'low' 'low' 'high' 'low' 'high' 'low' 'high' 'low' 'low'\n",
      " 'low' 'low' 'low' 'high' 'high' 'high' 'low' 'low' 'high' 'low' 'high'\n",
      " 'high' 'high' 'high']\n"
     ]
    }
   ],
   "source": [
    "y_train = train[['Grade']]\n",
    "print(y_train.values.ravel())"
   ]
  }
 ],
 "metadata": {
  "kernelspec": {
   "display_name": "Python 3",
   "language": "python",
   "name": "python3"
  },
  "language_info": {
   "codemirror_mode": {
    "name": "ipython",
    "version": 3
   },
   "file_extension": ".py",
   "mimetype": "text/x-python",
   "name": "python",
   "nbconvert_exporter": "python",
   "pygments_lexer": "ipython3",
   "version": "3.5.5"
  },
  "widgets": {
   "state": {},
   "version": "1.1.2"
  }
 },
 "nbformat": 4,
 "nbformat_minor": 2
}
